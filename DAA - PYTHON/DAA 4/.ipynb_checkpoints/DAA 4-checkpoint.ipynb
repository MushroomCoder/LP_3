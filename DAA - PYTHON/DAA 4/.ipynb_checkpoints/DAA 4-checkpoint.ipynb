{
 "cells": [
  {
   "cell_type": "code",
   "execution_count": 1,
   "id": "a7adf84c",
   "metadata": {},
   "outputs": [
    {
     "name": "stdout",
     "output_type": "stream",
     "text": [
      "350\n"
     ]
    }
   ],
   "source": [
    "def solve_knapsack():\n",
    "    val=[50,100,150,200] #value array\n",
    "    wt=[8,16,32,40] # Weight array\n",
    "    W=64\n",
    "    n=len(val) - 1\n",
    "    def knapsack(W,n): # (Remaining Weight, Number of items checked)\n",
    "        #base case\n",
    "        if n<0 or W<=0:\n",
    "            return 0\n",
    "        \n",
    "        #Higher weight than available\n",
    "        if wt[n]>W:\n",
    "            return knapsack(W, n-1)\n",
    "        \n",
    "        else:\n",
    "            return max(val[n] + knapsack(W-wt[n],n-1),knapsack(W,n-1))\n",
    "            # max(including , not including)\n",
    "    print(knapsack(W,n))\n",
    "\n",
    "if __name__==\"__main__\":\n",
    "    solve_knapsack()"
   ]
  },
  {
   "cell_type": "code",
   "execution_count": null,
   "id": "b34e8ba3",
   "metadata": {},
   "outputs": [],
   "source": []
  }
 ],
 "metadata": {
  "kernelspec": {
   "display_name": "Python 3 (ipykernel)",
   "language": "python",
   "name": "python3"
  },
  "language_info": {
   "codemirror_mode": {
    "name": "ipython",
    "version": 3
   },
   "file_extension": ".py",
   "mimetype": "text/x-python",
   "name": "python",
   "nbconvert_exporter": "python",
   "pygments_lexer": "ipython3",
   "version": "3.10.9"
  }
 },
 "nbformat": 4,
 "nbformat_minor": 5
}
