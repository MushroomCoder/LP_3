{
 "cells": [
  {
   "cell_type": "code",
   "execution_count": 1,
   "id": "106a5af6",
   "metadata": {},
   "outputs": [
    {
     "name": "stdout",
     "output_type": "stream",
     "text": [
      "240\n"
     ]
    }
   ],
   "source": [
    "def fractional_knapsack():\n",
    "    weights=[10,20,30]\n",
    "    values=[60,100,120]\n",
    "    capacity=50\n",
    "    res=0\n",
    "    # Pair : [Weight,value]\n",
    "    for pair in sorted(zip(weights,values), key= lambda x: x[1]/x[0], reverse=True):\n",
    "        if capacity<=0: # Capacity completed - Bag fully filled \n",
    "            break \n",
    "        if pair[0]>capacity: # Current's weight with highest value/weight ratio Available Capacity\n",
    "            res+=int(capacity * (pair[1]/pair[0]))  # Completely fill the bag\n",
    "            capacity=0\n",
    "        elif pair[0]<=capacity: # Take the whole object\n",
    "            res+=pair[1]\n",
    "            capacity-=pair[0]\n",
    "    print(res)        \n",
    "\n",
    "if __name__==\"__main__\":\n",
    "    fractional_knapsack()"
   ]
  },
  {
   "cell_type": "code",
   "execution_count": null,
   "id": "f3692fda",
   "metadata": {},
   "outputs": [],
   "source": []
  }
 ],
 "metadata": {
  "kernelspec": {
   "display_name": "Python 3 (ipykernel)",
   "language": "python",
   "name": "python3"
  },
  "language_info": {
   "codemirror_mode": {
    "name": "ipython",
    "version": 3
   },
   "file_extension": ".py",
   "mimetype": "text/x-python",
   "name": "python",
   "nbconvert_exporter": "python",
   "pygments_lexer": "ipython3",
   "version": "3.10.9"
  }
 },
 "nbformat": 4,
 "nbformat_minor": 5
}
